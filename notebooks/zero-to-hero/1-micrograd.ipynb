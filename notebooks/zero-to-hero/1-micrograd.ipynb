{
 "cells": [
  {
   "cell_type": "code",
   "execution_count": null,
   "id": "0a87c583",
   "metadata": {},
   "outputs": [],
   "source": [
    "class Value:\n",
    "  \"\"\" stores a single scalar value and its gradient \"\"\""
   ]
  }
 ],
 "metadata": {
  "kernelspec": {
   "display_name": ".venv",
   "language": "python",
   "name": "python3"
  },
  "language_info": {
   "name": "python",
   "version": "3.13.2"
  }
 },
 "nbformat": 4,
 "nbformat_minor": 5
}
