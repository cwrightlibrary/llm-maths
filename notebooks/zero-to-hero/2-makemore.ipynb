{
 "cells": [
  {
   "cell_type": "markdown",
   "id": "23766143",
   "metadata": {},
   "source": [
    "# [makemore](https://www.youtube.com/watch?v=PaCmpygFfXo&list=PLAqhIrjkxbuWI23v9cThsA9GvCAUhRvKZ&index=2)"
   ]
  },
  {
   "cell_type": "markdown",
   "id": "b85f2bf8",
   "metadata": {},
   "source": [
    "We start by opening up the `names.txt` file in the `data/` folder and look at some attributes."
   ]
  },
  {
   "cell_type": "code",
   "execution_count": 3,
   "id": "fb356989",
   "metadata": {},
   "outputs": [],
   "source": [
    "words = open(\"data/names.txt\", \"r\").read().splitlines()"
   ]
  },
  {
   "cell_type": "code",
   "execution_count": 4,
   "id": "386eecbf",
   "metadata": {},
   "outputs": [
    {
     "data": {
      "text/plain": [
       "['emma',\n",
       " 'olivia',\n",
       " 'ava',\n",
       " 'isabella',\n",
       " 'sophia',\n",
       " 'charlotte',\n",
       " 'mia',\n",
       " 'amelia',\n",
       " 'harper',\n",
       " 'evelyn']"
      ]
     },
     "execution_count": 4,
     "metadata": {},
     "output_type": "execute_result"
    }
   ],
   "source": [
    "words[:10]"
   ]
  },
  {
   "cell_type": "code",
   "execution_count": 5,
   "id": "6de86ac1",
   "metadata": {},
   "outputs": [
    {
     "data": {
      "text/plain": [
       "32033"
      ]
     },
     "execution_count": 5,
     "metadata": {},
     "output_type": "execute_result"
    }
   ],
   "source": [
    "len(words)"
   ]
  },
  {
   "cell_type": "code",
   "execution_count": 6,
   "id": "b859aaf6",
   "metadata": {},
   "outputs": [
    {
     "data": {
      "text/plain": [
       "2"
      ]
     },
     "execution_count": 6,
     "metadata": {},
     "output_type": "execute_result"
    }
   ],
   "source": [
    "min(len(w) for w in words)"
   ]
  },
  {
   "cell_type": "code",
   "execution_count": 7,
   "id": "5cbc1864",
   "metadata": {},
   "outputs": [
    {
     "data": {
      "text/plain": [
       "15"
      ]
     },
     "execution_count": 7,
     "metadata": {},
     "output_type": "execute_result"
    }
   ],
   "source": [
    "max(len(w) for w in words)"
   ]
  },
  {
   "cell_type": "markdown",
   "id": "63e6b978",
   "metadata": {},
   "source": [
    "Let's consider a name from the list in terms of what we want our model to do. If we examine the first name, `\"emma\"`, our model will learn from this word that it's very likely that the letter `\"e\"` will start a sequence of characters in a word. Similarly, the character `\"m\"` is likely to come after `\"e\"`, the character `\"m\"` is likely to come after `\"em\"`, and the character `\"a\"` is likely to come after `\"emm\"`. Finally, after the sequence `\"emma\"`, the word is likely to end.\n",
    "\n",
    "Because we have so many words, `32033` from Cell `[5]`, we have a lot of structure to train our model on."
   ]
  },
  {
   "cell_type": "markdown",
   "id": "305685e4",
   "metadata": {},
   "source": [
    "### Bigram language model\n",
    "\n",
    "We're going to start by learning how to implement a **bigram** language model. In a bigram language model, we're always working with just **two characters at a time**. In other words, we're looking at the input character we're given and we attempt to predict the next character in the sequence.\n",
    "\n",
    "We'll begin by looking at bigrams in our dataset."
   ]
  },
  {
   "cell_type": "code",
   "execution_count": 10,
   "id": "0d93bcca",
   "metadata": {},
   "outputs": [
    {
     "name": "stdout",
     "output_type": "stream",
     "text": [
      "e m\n",
      "m m\n",
      "m a\n",
      "\n",
      "o l\n",
      "l i\n",
      "i v\n",
      "v i\n",
      "i a\n",
      "\n",
      "a v\n",
      "v a\n",
      "\n"
     ]
    }
   ],
   "source": [
    "for w in words[:3]:\n",
    "  for ch1, ch2 in zip(w, w[1:]):\n",
    "    print(ch1, ch2)\n",
    "  print()"
   ]
  }
 ],
 "metadata": {
  "kernelspec": {
   "display_name": ".venv",
   "language": "python",
   "name": "python3"
  },
  "language_info": {
   "codemirror_mode": {
    "name": "ipython",
    "version": 3
   },
   "file_extension": ".py",
   "mimetype": "text/x-python",
   "name": "python",
   "nbconvert_exporter": "python",
   "pygments_lexer": "ipython3",
   "version": "3.13.2"
  }
 },
 "nbformat": 4,
 "nbformat_minor": 5
}
